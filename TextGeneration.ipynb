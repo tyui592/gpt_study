{
 "cells": [
  {
   "cell_type": "markdown",
   "id": "70e844b1",
   "metadata": {},
   "source": [
    "Text Generation with pre-trained GPT Model.\n",
    "=="
   ]
  },
  {
   "cell_type": "code",
   "execution_count": 1,
   "id": "f89d007a",
   "metadata": {},
   "outputs": [],
   "source": [
    "import torch\n",
    "from data import get_text_data\n",
    "from models import get_model\n",
    "from utils import load_dict\n",
    "from pathlib import Path\n",
    "from evaluate import generate"
   ]
  },
  {
   "cell_type": "code",
   "execution_count": 2,
   "id": "b7b21bab",
   "metadata": {},
   "outputs": [],
   "source": [
    "device = torch.device('cuda')\n",
    "load_root = Path('./model-store/ex01')\n",
    "args = load_dict(load_root / 'arg.pkl')"
   ]
  },
  {
   "cell_type": "markdown",
   "id": "f3546019",
   "metadata": {},
   "source": [
    "#### Load vocab and tokenizer"
   ]
  },
  {
   "cell_type": "code",
   "execution_count": 3,
   "id": "d7d559ab",
   "metadata": {},
   "outputs": [
    {
     "name": "stderr",
     "output_type": "stream",
     "text": [
      "/home/minseong/anaconda3/envs/pytorch_2.3/lib/python3.10/site-packages/torchtext/vocab/__init__.py:4: UserWarning: \n",
      "/!\\ IMPORTANT WARNING ABOUT TORCHTEXT STATUS /!\\ \n",
      "Torchtext is deprecated and the last released version will be 0.18 (this one). You can silence this warning by calling the following at the beginnign of your scripts: `import torchtext; torchtext.disable_torchtext_deprecation_warning()`\n",
      "  warnings.warn(torchtext._TORCHTEXT_DEPRECATION_MSG)\n",
      "/home/minseong/anaconda3/envs/pytorch_2.3/lib/python3.10/site-packages/torchtext/utils.py:4: UserWarning: \n",
      "/!\\ IMPORTANT WARNING ABOUT TORCHTEXT STATUS /!\\ \n",
      "Torchtext is deprecated and the last released version will be 0.18 (this one). You can silence this warning by calling the following at the beginnign of your scripts: `import torchtext; torchtext.disable_torchtext_deprecation_warning()`\n",
      "  warnings.warn(torchtext._TORCHTEXT_DEPRECATION_MSG)\n"
     ]
    }
   ],
   "source": [
    "vocab, tokenizer, datasets = get_text_data(args)"
   ]
  },
  {
   "cell_type": "markdown",
   "id": "feea2e09",
   "metadata": {},
   "source": [
    "#### Load a model"
   ]
  },
  {
   "cell_type": "code",
   "execution_count": 4,
   "id": "583c37a8",
   "metadata": {},
   "outputs": [
    {
     "data": {
      "text/plain": [
       "<All keys matched successfully>"
      ]
     },
     "execution_count": 4,
     "metadata": {},
     "output_type": "execute_result"
    }
   ],
   "source": [
    "model = get_model(args).to(device)\n",
    "ckpt = torch.load(load_root / 'best_val.pt', map_location=device)\n",
    "model.load_state_dict(ckpt['state_dict'])"
   ]
  },
  {
   "cell_type": "markdown",
   "id": "3470ec13",
   "metadata": {},
   "source": [
    "#### Text generation with a sample sentence."
   ]
  },
  {
   "cell_type": "code",
   "execution_count": 5,
   "id": "8a8d2ce6",
   "metadata": {},
   "outputs": [
    {
     "name": "stdout",
     "output_type": "stream",
     "text": [
      "i have a good plan to clean my house . \" so , lily and her mom cleaned the house together . they put the toys in a big box and the toy car in a safe place . lily was happy that she could help her mom clean her room . <eot>\n"
     ]
    }
   ],
   "source": [
    "x = 'i have a good plan to clean my house. '\n",
    "generated, _ = generate(model, x, vocab, tokenizer, device, args.max_len)\n",
    "print(generated)"
   ]
  },
  {
   "cell_type": "markdown",
   "id": "92a72429",
   "metadata": {},
   "source": [
    "#### Text generation with validation dataset."
   ]
  },
  {
   "cell_type": "code",
   "execution_count": 6,
   "id": "3a135da5",
   "metadata": {},
   "outputs": [
    {
     "name": "stdout",
     "output_type": "stream",
     "text": [
      "to be nice at the store . no being rude ! \" tony nodded and said , \" okay ! i 'll be very nice . \" they chose some blue paint and headed home . back at home , sam and tony had a lot of fun painting . sam said , \" see , i told you blue was the best color . \" tony nodded and smiled . they both agreed it was an excellent recommendation . <eot> <sot> once there was a little boy named tim . he was only three years old and loved exploring his garden . one day , he thought it would be fun to fish in the pond.he got out his net and went to the pond . he\n"
     ]
    }
   ],
   "source": [
    "print(' '.join(vocab.lookup_tokens(datasets['valid'][0])))"
   ]
  },
  {
   "cell_type": "code",
   "execution_count": 7,
   "id": "48b2e066",
   "metadata": {},
   "outputs": [],
   "source": [
    "x = 'mommy and daddy let the little girl go explore the attic .'"
   ]
  },
  {
   "cell_type": "code",
   "execution_count": 8,
   "id": "7aa12eee",
   "metadata": {},
   "outputs": [
    {
     "name": "stdout",
     "output_type": "stream",
     "text": [
      "mommy and daddy let the little girl go explore the attic . she was so excited to see all the things she could find . she found a big box and opened it . inside was a beautiful necklace . she was so happy and hugged her mommy and daddy . they were so proud of her for being so brave and finding something so special . the little girl was so happy that she had found something so special . she put the necklace on and went back to playing in the attic . <eot>\n"
     ]
    }
   ],
   "source": [
    "generated, _ = generate(model, x, vocab, tokenizer, device, args.max_len)\n",
    "print(generated)"
   ]
  }
 ],
 "metadata": {
  "kernelspec": {
   "display_name": "pytorch_2.3",
   "language": "python",
   "name": "pytorch_2.3"
  },
  "language_info": {
   "codemirror_mode": {
    "name": "ipython",
    "version": 3
   },
   "file_extension": ".py",
   "mimetype": "text/x-python",
   "name": "python",
   "nbconvert_exporter": "python",
   "pygments_lexer": "ipython3",
   "version": "3.10.14"
  }
 },
 "nbformat": 4,
 "nbformat_minor": 5
}
